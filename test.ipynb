{
 "cells": [
  {
   "cell_type": "code",
   "execution_count": 34,
   "metadata": {},
   "outputs": [
    {
     "name": "stdout",
     "output_type": "stream",
     "text": [
      "Requirement already satisfied: langchain-pinecone in c:\\users\\hp\\anaconda3\\envs\\bot3\\lib\\site-packages (0.0.3)\n",
      "Requirement already satisfied: langchain-core<0.2,>=0.1 in c:\\users\\hp\\anaconda3\\envs\\bot3\\lib\\site-packages (from langchain-pinecone) (0.1.52)\n",
      "Requirement already satisfied: numpy<2,>=1 in c:\\users\\hp\\anaconda3\\envs\\bot3\\lib\\site-packages (from langchain-pinecone) (1.26.4)\n",
      "Requirement already satisfied: pinecone-client<4,>=3 in c:\\users\\hp\\anaconda3\\envs\\bot3\\lib\\site-packages (from langchain-pinecone) (3.0.0)\n",
      "Requirement already satisfied: PyYAML>=5.3 in c:\\users\\hp\\anaconda3\\envs\\bot3\\lib\\site-packages (from langchain-core<0.2,>=0.1->langchain-pinecone) (6.0.2)\n",
      "Requirement already satisfied: jsonpatch<2.0,>=1.33 in c:\\users\\hp\\anaconda3\\envs\\bot3\\lib\\site-packages (from langchain-core<0.2,>=0.1->langchain-pinecone) (1.33)\n",
      "Requirement already satisfied: langsmith<0.2.0,>=0.1.0 in c:\\users\\hp\\anaconda3\\envs\\bot3\\lib\\site-packages (from langchain-core<0.2,>=0.1->langchain-pinecone) (0.1.99)\n",
      "Requirement already satisfied: packaging<24.0,>=23.2 in c:\\users\\hp\\anaconda3\\envs\\bot3\\lib\\site-packages (from langchain-core<0.2,>=0.1->langchain-pinecone) (23.2)\n",
      "Requirement already satisfied: pydantic<3,>=1 in c:\\users\\hp\\anaconda3\\envs\\bot3\\lib\\site-packages (from langchain-core<0.2,>=0.1->langchain-pinecone) (1.10.17)\n",
      "Requirement already satisfied: tenacity<9.0.0,>=8.1.0 in c:\\users\\hp\\anaconda3\\envs\\bot3\\lib\\site-packages (from langchain-core<0.2,>=0.1->langchain-pinecone) (8.5.0)\n",
      "Requirement already satisfied: certifi>=2019.11.17 in c:\\users\\hp\\anaconda3\\envs\\bot3\\lib\\site-packages (from pinecone-client<4,>=3->langchain-pinecone) (2024.7.4)\n",
      "Requirement already satisfied: tqdm>=4.64.1 in c:\\users\\hp\\anaconda3\\envs\\bot3\\lib\\site-packages (from pinecone-client<4,>=3->langchain-pinecone) (4.66.5)\n",
      "Requirement already satisfied: typing-extensions>=3.7.4 in c:\\users\\hp\\anaconda3\\envs\\bot3\\lib\\site-packages (from pinecone-client<4,>=3->langchain-pinecone) (4.12.2)\n",
      "Requirement already satisfied: urllib3>=1.26.0 in c:\\users\\hp\\anaconda3\\envs\\bot3\\lib\\site-packages (from pinecone-client<4,>=3->langchain-pinecone) (2.2.2)\n",
      "Requirement already satisfied: jsonpointer>=1.9 in c:\\users\\hp\\anaconda3\\envs\\bot3\\lib\\site-packages (from jsonpatch<2.0,>=1.33->langchain-core<0.2,>=0.1->langchain-pinecone) (3.0.0)\n",
      "Requirement already satisfied: orjson<4.0.0,>=3.9.14 in c:\\users\\hp\\anaconda3\\envs\\bot3\\lib\\site-packages (from langsmith<0.2.0,>=0.1.0->langchain-core<0.2,>=0.1->langchain-pinecone) (3.10.7)\n",
      "Requirement already satisfied: requests<3,>=2 in c:\\users\\hp\\anaconda3\\envs\\bot3\\lib\\site-packages (from langsmith<0.2.0,>=0.1.0->langchain-core<0.2,>=0.1->langchain-pinecone) (2.32.3)\n",
      "Requirement already satisfied: colorama in c:\\users\\hp\\anaconda3\\envs\\bot3\\lib\\site-packages (from tqdm>=4.64.1->pinecone-client<4,>=3->langchain-pinecone) (0.4.6)\n",
      "Requirement already satisfied: charset-normalizer<4,>=2 in c:\\users\\hp\\anaconda3\\envs\\bot3\\lib\\site-packages (from requests<3,>=2->langsmith<0.2.0,>=0.1.0->langchain-core<0.2,>=0.1->langchain-pinecone) (3.3.2)\n",
      "Requirement already satisfied: idna<4,>=2.5 in c:\\users\\hp\\anaconda3\\envs\\bot3\\lib\\site-packages (from requests<3,>=2->langsmith<0.2.0,>=0.1.0->langchain-core<0.2,>=0.1->langchain-pinecone) (3.7)\n",
      "Note: you may need to restart the kernel to use updated packages.\n"
     ]
    }
   ],
   "source": [
    "pip install langchain-pinecone"
   ]
  },
  {
   "cell_type": "code",
   "execution_count": 2,
   "metadata": {},
   "outputs": [],
   "source": [
    "from langchain import PromptTemplate\n",
    "from langchain.chains import RetrievalQA\n",
    "from langchain.embeddings import HuggingFaceEmbeddings\n",
    "from langchain.vectorstores import Pinecone\n",
    "import pinecone\n",
    "from langchain.document_loaders import PyPDFLoader, DirectoryLoader\n",
    "from langchain.text_splitter import RecursiveCharacterTextSplitter\n",
    "from langchain.prompts import PromptTemplate\n",
    "from langchain.llms import CTransformers\n"
   ]
  },
  {
   "cell_type": "code",
   "execution_count": 3,
   "metadata": {},
   "outputs": [
    {
     "name": "stderr",
     "output_type": "stream",
     "text": [
      "c:\\Users\\hp\\anaconda3\\envs\\bot3\\lib\\site-packages\\transformers\\tokenization_utils_base.py:1601: FutureWarning: `clean_up_tokenization_spaces` was not set. It will be set to `True` by default. This behavior will be depracted in transformers v4.45, and will be then set to `False` by default. For more details check this issue: https://github.com/huggingface/transformers/issues/31884\n",
      "  warnings.warn(\n"
     ]
    }
   ],
   "source": [
    "embeddings=HuggingFaceEmbeddings(model_name='sentence-transformers/all-MiniLM-L6-v2')"
   ]
  },
  {
   "cell_type": "code",
   "execution_count": 4,
   "metadata": {},
   "outputs": [
    {
     "data": {
      "text/plain": [
       "HuggingFaceEmbeddings(client=SentenceTransformer(\n",
       "  (0): Transformer({'max_seq_length': 256, 'do_lower_case': False}) with Transformer model: BertModel \n",
       "  (1): Pooling({'word_embedding_dimension': 384, 'pooling_mode_cls_token': False, 'pooling_mode_mean_tokens': True, 'pooling_mode_max_tokens': False, 'pooling_mode_mean_sqrt_len_tokens': False})\n",
       "  (2): Normalize()\n",
       "), model_name='sentence-transformers/all-MiniLM-L6-v2', cache_folder=None, model_kwargs={}, encode_kwargs={}, multi_process=False, show_progress=False)"
      ]
     },
     "execution_count": 4,
     "metadata": {},
     "output_type": "execute_result"
    }
   ],
   "source": [
    "embeddings"
   ]
  },
  {
   "cell_type": "code",
   "execution_count": 5,
   "metadata": {},
   "outputs": [],
   "source": [
    "PINECONE_API_KEY = \"3c244373-c13c-4b8b-b49f-bd47d2701f47\"\n",
    "PINECONE_API_ENV = \"us-east-1-gcp-free\""
   ]
  },
  {
   "cell_type": "code",
   "execution_count": 6,
   "metadata": {},
   "outputs": [],
   "source": [
    "def load_pdf(data):\n",
    "    loader = DirectoryLoader(data,\n",
    "                    glob=\"*.pdf\",\n",
    "                    loader_cls=PyPDFLoader)\n",
    "    \n",
    "    documents = loader.load()\n",
    "\n",
    "    return documents"
   ]
  },
  {
   "cell_type": "code",
   "execution_count": 62,
   "metadata": {},
   "outputs": [],
   "source": [
    "extracted_data = load_pdf(\"data/\")"
   ]
  },
  {
   "cell_type": "code",
   "execution_count": 63,
   "metadata": {},
   "outputs": [
    {
     "data": {
      "text/plain": [
       "list"
      ]
     },
     "execution_count": 63,
     "metadata": {},
     "output_type": "execute_result"
    }
   ],
   "source": [
    "type(extracted_data)"
   ]
  },
  {
   "cell_type": "code",
   "execution_count": 64,
   "metadata": {},
   "outputs": [
    {
     "data": {
      "text/plain": [
       "5"
      ]
     },
     "execution_count": 64,
     "metadata": {},
     "output_type": "execute_result"
    }
   ],
   "source": [
    "len(extracted_data)"
   ]
  },
  {
   "cell_type": "code",
   "execution_count": 65,
   "metadata": {},
   "outputs": [
    {
     "data": {
      "text/plain": [
       "Document(page_content=\" \\n  Page | 1 \\n \\nE-commerce - Business models \\nEvery business operates on business model of its own. Business model defines how a company \\nruns its operations & generates revenue. Every viable organization is built on a sound business \\nmodel. Selecting an ecommerce business model is a challenge, especially for beginners who \\nhave little to no experience in the industry. If a business model is successfully executed, an \\necommerce venture can become a significant source of income. Let us go through some most \\nprevalent e-commerce business models in detail: \\n1. B2B Business model \\nA website following the B2B business model sells its products to an intermediate buyer who \\nthen sells the product to the final customer. As an example, a wholesaler places an order from a \\ncompany's website and after receiving the consignment, sells the end product to the final \\ncustomer who comes to buy the product at one of its retail outlets.  \\n \\n \\n  \\n \\n \\n \\nExample \\n      \\nIndiamart is one of the best examples of B2B e-commerce business. Founded in 1999, the \\ncompany’s mission is ‘ to make doing business easy ’. It is India’s largest B2B marketplace. \\nWith 60% market share of the online B2B Classified space in India, the channel focuses on \\nproviding a platform to Small & Medium Enterprises (SMEs), Large enterprises as well \\nas individuals.  \\n \\n2. B2C Business model \\nA website following B2C business model sells its products directly to a customer, the end user. A \\ncustomer can choose the products shown on the website and place an order for them. They may \\nuse banking channels or payment on delivery options.  \\nThere are two broad categories under this model – Direct selling and market place model. \\nI. Direct selling  refers to the manufacturer or wholesaler of the product/brand selling \\ntheir goods directly to the customers on their own website.  \\nBusiness sells goods \\nor provides services  \\nOnline Portal  \\nThrough  \\nAnother Business\\nTo \", metadata={'source': 'data\\\\E-commerce_Business_Models (1).pdf', 'page': 0})"
      ]
     },
     "execution_count": 65,
     "metadata": {},
     "output_type": "execute_result"
    }
   ],
   "source": [
    "extracted_data[0]"
   ]
  },
  {
   "cell_type": "code",
   "execution_count": 66,
   "metadata": {},
   "outputs": [],
   "source": [
    "#Create text chunks\n",
    "def text_split(extracted_data):\n",
    "    text_splitter = RecursiveCharacterTextSplitter(chunk_size = 50, chunk_overlap = 2)\n",
    "    text_chunks = text_splitter.split_documents(extracted_data)\n",
    "\n",
    "    return text_chunks"
   ]
  },
  {
   "cell_type": "code",
   "execution_count": 67,
   "metadata": {},
   "outputs": [
    {
     "name": "stdout",
     "output_type": "stream",
     "text": [
      "length of my chunk: 251\n"
     ]
    }
   ],
   "source": [
    "text_chunks = text_split(extracted_data)\n",
    "print(\"length of my chunk:\", len(text_chunks))"
   ]
  },
  {
   "cell_type": "code",
   "execution_count": 68,
   "metadata": {},
   "outputs": [
    {
     "name": "stderr",
     "output_type": "stream",
     "text": [
      "c:\\Users\\hp\\anaconda3\\envs\\bot3\\lib\\site-packages\\transformers\\tokenization_utils_base.py:1601: FutureWarning: `clean_up_tokenization_spaces` was not set. It will be set to `True` by default. This behavior will be depracted in transformers v4.45, and will be then set to `False` by default. For more details check this issue: https://github.com/huggingface/transformers/issues/31884\n",
      "  warnings.warn(\n"
     ]
    }
   ],
   "source": [
    "#download embedding model\n",
    "embeddings = HuggingFaceEmbeddings(model_name=\"sentence-transformers/all-MiniLM-L6-v2\")\n",
    "    "
   ]
  },
  {
   "cell_type": "markdown",
   "metadata": {},
   "source": []
  },
  {
   "cell_type": "code",
   "execution_count": 81,
   "metadata": {},
   "outputs": [
    {
     "name": "stdout",
     "output_type": "stream",
     "text": [
      "Length 384\n"
     ]
    }
   ],
   "source": [
    "query_result = embeddings.embed_query(\"Hello world\")\n",
    "print(\"Length\", len(query_result))"
   ]
  },
  {
   "cell_type": "code",
   "execution_count": 82,
   "metadata": {},
   "outputs": [
    {
     "data": {
      "text/plain": [
       "[-0.03447723761200905,\n",
       " 0.031023213639855385,\n",
       " 0.006734990980476141,\n",
       " 0.02610895223915577,\n",
       " -0.03936200216412544,\n",
       " -0.16030248999595642,\n",
       " 0.06692393124103546,\n",
       " -0.006441502831876278,\n",
       " -0.04745049029588699,\n",
       " 0.014758865348994732,\n",
       " 0.07087529450654984,\n",
       " 0.05552753433585167,\n",
       " 0.019193345680832863,\n",
       " -0.026251327246427536,\n",
       " -0.010109513066709042,\n",
       " -0.026940496638417244,\n",
       " 0.022307435050606728,\n",
       " -0.022226642817258835,\n",
       " -0.1496925801038742,\n",
       " -0.01749304123222828,\n",
       " 0.007676258217543364,\n",
       " 0.05435232073068619,\n",
       " 0.0032544711139053106,\n",
       " 0.031725890934467316,\n",
       " -0.0846213549375534,\n",
       " -0.029405983164906502,\n",
       " 0.05159558728337288,\n",
       " 0.04812406003475189,\n",
       " -0.0033148040529340506,\n",
       " -0.05827920883893967,\n",
       " 0.04196924716234207,\n",
       " 0.022210638970136642,\n",
       " 0.1281888484954834,\n",
       " -0.022338991984725,\n",
       " -0.011656233109533787,\n",
       " 0.06292837113142014,\n",
       " -0.03287629410624504,\n",
       " -0.09122603386640549,\n",
       " -0.031175388023257256,\n",
       " 0.052699580788612366,\n",
       " 0.0470348484814167,\n",
       " -0.08420310914516449,\n",
       " -0.030056176707148552,\n",
       " -0.020744847133755684,\n",
       " 0.009517889469861984,\n",
       " -0.00372184906154871,\n",
       " 0.0073433006182312965,\n",
       " 0.0393243134021759,\n",
       " 0.09327401965856552,\n",
       " -0.0037885885685682297,\n",
       " -0.05274209380149841,\n",
       " -0.05805818736553192,\n",
       " -0.006864405702799559,\n",
       " 0.005283272825181484,\n",
       " 0.082893006503582,\n",
       " 0.0193627942353487,\n",
       " 0.006284557748585939,\n",
       " -0.0103307468816638,\n",
       " 0.009032361209392548,\n",
       " -0.03768371418118477,\n",
       " -0.045206062495708466,\n",
       " 0.024016302078962326,\n",
       " -0.0069441357627511024,\n",
       " 0.013491638004779816,\n",
       " 0.10005494207143784,\n",
       " -0.07168391346931458,\n",
       " -0.021695079281926155,\n",
       " 0.031618472188711166,\n",
       " -0.051634665578603745,\n",
       " -0.08224768191576004,\n",
       " -0.06569333374500275,\n",
       " -0.009895358234643936,\n",
       " 0.005816414020955563,\n",
       " 0.07355459034442902,\n",
       " -0.03405032306909561,\n",
       " 0.024886099621653557,\n",
       " 0.014488086104393005,\n",
       " 0.026457402855157852,\n",
       " 0.009656715206801891,\n",
       " 0.030217245221138,\n",
       " 0.05280398577451706,\n",
       " -0.07535985857248306,\n",
       " 0.009897198528051376,\n",
       " 0.029836829751729965,\n",
       " 0.01755557395517826,\n",
       " 0.02309197373688221,\n",
       " 0.0019338536076247692,\n",
       " 0.0014002128737047315,\n",
       " -0.047175947576761246,\n",
       " -0.011194308288395405,\n",
       " -0.11420140415430069,\n",
       " -0.019811980426311493,\n",
       " 0.04026621952652931,\n",
       " 0.0021930187940597534,\n",
       " -0.07979223877191544,\n",
       " -0.02538231946527958,\n",
       " 0.09448294341564178,\n",
       " -0.028981104493141174,\n",
       " -0.1450025886297226,\n",
       " 0.23097741603851318,\n",
       " 0.027731159701943398,\n",
       " 0.03211148455739021,\n",
       " 0.03106498531997204,\n",
       " 0.04283284395933151,\n",
       " 0.06423775851726532,\n",
       " 0.03216317296028137,\n",
       " -0.004876730032265186,\n",
       " 0.05569944530725479,\n",
       " -0.03753240033984184,\n",
       " -0.021505508571863174,\n",
       " -0.02834264002740383,\n",
       " -0.02884693257510662,\n",
       " 0.03835306689143181,\n",
       " -0.01746867038309574,\n",
       " 0.052485302090644836,\n",
       " -0.07487607002258301,\n",
       " -0.03125975653529167,\n",
       " 0.021841539070010185,\n",
       " -0.0398956723511219,\n",
       " -0.008587092161178589,\n",
       " 0.026956632733345032,\n",
       " -0.04849546030163765,\n",
       " 0.011469852179288864,\n",
       " 0.029618216678500175,\n",
       " -0.020572137087583542,\n",
       " 0.013103872537612915,\n",
       " 0.02883348986506462,\n",
       " -3.194199819506188e-33,\n",
       " 0.06478215008974075,\n",
       " -0.01813017949461937,\n",
       " 0.05178995802998543,\n",
       " 0.12198273837566376,\n",
       " 0.028780125081539154,\n",
       " 0.008721998892724514,\n",
       " -0.07052116096019745,\n",
       " -0.01690729148685932,\n",
       " 0.04073970764875412,\n",
       " 0.0421162024140358,\n",
       " 0.02544722892343998,\n",
       " 0.035746265202760696,\n",
       " -0.049144770950078964,\n",
       " 0.00212904647924006,\n",
       " -0.015546578913927078,\n",
       " 0.05073059722781181,\n",
       " -0.0481853112578392,\n",
       " 0.03588059917092323,\n",
       " -0.004067071247845888,\n",
       " 0.10172471404075623,\n",
       " -0.05597006529569626,\n",
       " -0.010681072250008583,\n",
       " 0.011235734447836876,\n",
       " 0.09068656712770462,\n",
       " 0.004234452731907368,\n",
       " 0.03513864800333977,\n",
       " -0.00970282219350338,\n",
       " -0.09386514872312546,\n",
       " 0.09285550564527512,\n",
       " 0.00800491962581873,\n",
       " -0.007705389987677336,\n",
       " -0.05208674445748329,\n",
       " -0.012587987817823887,\n",
       " 0.00326691847294569,\n",
       " 0.0060135480016469955,\n",
       " 0.0075815594755113125,\n",
       " 0.010517118498682976,\n",
       " -0.08634554594755173,\n",
       " -0.06987877935171127,\n",
       " -0.002533899387344718,\n",
       " -0.09097657352685928,\n",
       " 0.046887367963790894,\n",
       " 0.05207649618387222,\n",
       " 0.007193806115537882,\n",
       " 0.010903654620051384,\n",
       " -0.005229526665061712,\n",
       " 0.013937312178313732,\n",
       " 0.021968312561511993,\n",
       " 0.03420859947800636,\n",
       " 0.060224711894989014,\n",
       " 0.00011667551734717563,\n",
       " 0.014731938019394875,\n",
       " -0.07008925825357437,\n",
       " 0.028499048203229904,\n",
       " -0.027601707726716995,\n",
       " 0.010768460109829903,\n",
       " 0.034830886870622635,\n",
       " -0.022487888112664223,\n",
       " 0.009769026190042496,\n",
       " 0.07722778618335724,\n",
       " 0.021588386967778206,\n",
       " 0.11495620757341385,\n",
       " -0.06800110638141632,\n",
       " 0.023761006072163582,\n",
       " -0.015983883291482925,\n",
       " -0.017826925963163376,\n",
       " 0.06439493596553802,\n",
       " 0.03202570974826813,\n",
       " 0.05027025192975998,\n",
       " -0.005913688801229,\n",
       " -0.03370802477002144,\n",
       " 0.017840296030044556,\n",
       " 0.016573332250118256,\n",
       " 0.06329655647277832,\n",
       " 0.03467720374464989,\n",
       " 0.04647347703576088,\n",
       " 0.0979061871767044,\n",
       " -0.0066355508752167225,\n",
       " 0.02520705573260784,\n",
       " -0.07798831164836884,\n",
       " 0.01692645438015461,\n",
       " -0.0009458299027755857,\n",
       " 0.022471902891993523,\n",
       " -0.03825319930911064,\n",
       " 0.09570474922657013,\n",
       " -0.0053508044220507145,\n",
       " 0.010469086468219757,\n",
       " -0.11524054408073425,\n",
       " -0.013262503780424595,\n",
       " -0.010709397494792938,\n",
       " -0.08311727643013,\n",
       " 0.07327356189489365,\n",
       " 0.049392219632864,\n",
       " -0.008994377218186855,\n",
       " -0.09584559500217438,\n",
       " 3.3661485617505796e-33,\n",
       " 0.12493182718753815,\n",
       " 0.019349727779626846,\n",
       " -0.05822574719786644,\n",
       " -0.035988226532936096,\n",
       " -0.05074676126241684,\n",
       " -0.04566236585378647,\n",
       " -0.08260335773229599,\n",
       " 0.14819476008415222,\n",
       " -0.08842116594314575,\n",
       " 0.06027444452047348,\n",
       " 0.05103016644716263,\n",
       " 0.010303179733455181,\n",
       " 0.14121417701244354,\n",
       " 0.030813850462436676,\n",
       " 0.06103307381272316,\n",
       " -0.052851270884275436,\n",
       " 0.13664889335632324,\n",
       " 0.009189936332404613,\n",
       " -0.017325198277831078,\n",
       " -0.012848656624555588,\n",
       " -0.007995289750397205,\n",
       " -0.05098006874322891,\n",
       " -0.05235067009925842,\n",
       " 0.007593010552227497,\n",
       " -0.015166271477937698,\n",
       " 0.01696034148335457,\n",
       " 0.021270528435707092,\n",
       " 0.020558040589094162,\n",
       " -0.12002812325954437,\n",
       " 0.014461839571595192,\n",
       " 0.0267599169164896,\n",
       " 0.02533068135380745,\n",
       " -0.04275461658835411,\n",
       " 0.006768501829355955,\n",
       " -0.01445856224745512,\n",
       " 0.04526197910308838,\n",
       " -0.09147652983665466,\n",
       " -0.01943911984562874,\n",
       " -0.017833467572927475,\n",
       " -0.054910145699977875,\n",
       " -0.0526411272585392,\n",
       " -0.01045907475054264,\n",
       " -0.052016064524650574,\n",
       " 0.02089197188615799,\n",
       " -0.0799703523516655,\n",
       " -0.012111294083297253,\n",
       " -0.057731445878744125,\n",
       " 0.023178216069936752,\n",
       " -0.008031681180000305,\n",
       " -0.02598932944238186,\n",
       " -0.07995671033859253,\n",
       " -0.020728863775730133,\n",
       " 0.04881769046187401,\n",
       " -0.020389188081026077,\n",
       " -0.04917659983038902,\n",
       " 0.014159644022583961,\n",
       " -0.06362206488847733,\n",
       " -0.0078073772601783276,\n",
       " 0.016431517899036407,\n",
       " -0.025682490319013596,\n",
       " 0.013381149619817734,\n",
       " 0.026248788461089134,\n",
       " 0.00997841451317072,\n",
       " 0.06322887539863586,\n",
       " 0.002672168891876936,\n",
       " -0.0065827216021716595,\n",
       " 0.016631949692964554,\n",
       " 0.03236648440361023,\n",
       " 0.03794248774647713,\n",
       " -0.03637610003352165,\n",
       " -0.006910913623869419,\n",
       " 0.0001596680813236162,\n",
       " -0.0016335482941940427,\n",
       " -0.027278199791908264,\n",
       " -0.028038088232278824,\n",
       " 0.049681488424539566,\n",
       " -0.028867237269878387,\n",
       " -0.00241808476857841,\n",
       " 0.014774847775697708,\n",
       " 0.009764591231942177,\n",
       " 0.005797601770609617,\n",
       " 0.013486167415976524,\n",
       " 0.005567912943661213,\n",
       " 0.03722710534930229,\n",
       " 0.007232502568513155,\n",
       " 0.04015621170401573,\n",
       " 0.08150329440832138,\n",
       " 0.0719916969537735,\n",
       " -0.013056186027824879,\n",
       " -0.042882028967142105,\n",
       " -0.011011210270226002,\n",
       " 0.004897821228951216,\n",
       " -0.009229732677340508,\n",
       " 0.03519150987267494,\n",
       " -0.051035065203905106,\n",
       " -1.571437557856825e-08,\n",
       " -0.08862440288066864,\n",
       " 0.023909345269203186,\n",
       " -0.0162387415766716,\n",
       " 0.0317005030810833,\n",
       " 0.02728423662483692,\n",
       " 0.05246885493397713,\n",
       " -0.047070953994989395,\n",
       " -0.05884746089577675,\n",
       " -0.0632082000374794,\n",
       " 0.040888577699661255,\n",
       " 0.049827925860881805,\n",
       " 0.10655166953802109,\n",
       " -0.0745023861527443,\n",
       " -0.012495428323745728,\n",
       " 0.01837068796157837,\n",
       " 0.03947412595152855,\n",
       " -0.02479792758822441,\n",
       " 0.014516264200210571,\n",
       " -0.0370691753923893,\n",
       " 0.020015768706798553,\n",
       " -4.856145824305713e-05,\n",
       " 0.009866581298410892,\n",
       " 0.02483876794576645,\n",
       " -0.052458155900239944,\n",
       " 0.029314203187823296,\n",
       " -0.08719190955162048,\n",
       " -0.01449974812567234,\n",
       " 0.0260190237313509,\n",
       " -0.018746310845017433,\n",
       " -0.07620514184236526,\n",
       " 0.03504331782460213,\n",
       " 0.10363944619894028,\n",
       " -0.028050504624843597,\n",
       " 0.012718185782432556,\n",
       " -0.07632549852132797,\n",
       " -0.018652383238077164,\n",
       " 0.024976715445518494,\n",
       " 0.08144532144069672,\n",
       " 0.06875886023044586,\n",
       " -0.0640566349029541,\n",
       " -0.08389384299516678,\n",
       " 0.06136239692568779,\n",
       " -0.03354553505778313,\n",
       " -0.10615336149930954,\n",
       " -0.040080536156892776,\n",
       " 0.03253019228577614,\n",
       " 0.07662486284971237,\n",
       " -0.0730162188410759,\n",
       " 0.00033756825723685324,\n",
       " -0.040871623903512955,\n",
       " -0.0757884755730629,\n",
       " 0.027527663856744766,\n",
       " 0.0746254250407219,\n",
       " 0.017717262730002403,\n",
       " 0.0912184789776802,\n",
       " 0.11022017151117325,\n",
       " 0.0005697783199138939,\n",
       " 0.05146336182951927,\n",
       " -0.014551319181919098,\n",
       " 0.033232059329748154,\n",
       " 0.023792307823896408,\n",
       " -0.02288985252380371,\n",
       " 0.03893749415874481,\n",
       " 0.03020681068301201]"
      ]
     },
     "execution_count": 82,
     "metadata": {},
     "output_type": "execute_result"
    }
   ],
   "source": [
    "query_result"
   ]
  },
  {
   "cell_type": "code",
   "execution_count": 71,
   "metadata": {},
   "outputs": [],
   "source": [
    "import os"
   ]
  },
  {
   "cell_type": "code",
   "execution_count": 73,
   "metadata": {},
   "outputs": [
    {
     "data": {
      "text/plain": [
       "{'indexes': [{'dimension': 384,\n",
       "              'host': 'chatbot-2-oqs9n7z.svc.aped-4627-b74a.pinecone.io',\n",
       "              'metric': 'cosine',\n",
       "              'name': 'chatbot-2',\n",
       "              'spec': {'serverless': {'cloud': 'aws', 'region': 'us-east-1'}},\n",
       "              'status': {'ready': True, 'state': 'Ready'}}]}"
      ]
     },
     "execution_count": 73,
     "metadata": {},
     "output_type": "execute_result"
    }
   ],
   "source": [
    "from pinecone import Pinecone\n",
    "pc = Pinecone(api_key=PINECONE_API_KEY)\n",
    "pc.list_indexes()"
   ]
  },
  {
   "cell_type": "code",
   "execution_count": 74,
   "metadata": {},
   "outputs": [],
   "source": [
    "model_name = \"sentence-transformers/all-MiniLM-L6-v2\"\n",
    "model_kwargs = {'device': 'cpu'}\n",
    "encode_kwargs = {'normalize_embeddings': False}\n",
    "hf = HuggingFaceEmbeddings(\n",
    "    model_name=model_name,\n",
    "    model_kwargs=model_kwargs,\n",
    "    encode_kwargs=encode_kwargs\n",
    ")"
   ]
  },
  {
   "cell_type": "code",
   "execution_count": 90,
   "metadata": {},
   "outputs": [],
   "source": [
    "index_name=\"chatbot-2\"\n",
    "from langchain_pinecone import PineconeVectorStore  \n",
    "text_field = text_chunks \n",
    "vectorstore = PineconeVectorStore(  \n",
    "    index, embeddings, text_field  \n",
    ")  \n"
   ]
  },
  {
   "cell_type": "code",
   "execution_count": 91,
   "metadata": {},
   "outputs": [],
   "source": [
    "query = \"whAT IS business model?\"  \n",
    "X=vectorstore.similarity_search(  \n",
    "    query,  # our search query  \n",
    "    k=3  # return 3 most relevant docs  \n",
    ") "
   ]
  },
  {
   "cell_type": "code",
   "execution_count": 92,
   "metadata": {},
   "outputs": [
    {
     "data": {
      "text/plain": [
       "[]"
      ]
     },
     "execution_count": 92,
     "metadata": {},
     "output_type": "execute_result"
    }
   ],
   "source": [
    "X"
   ]
  },
  {
   "cell_type": "code",
   "execution_count": 80,
   "metadata": {},
   "outputs": [
    {
     "data": {
      "text/plain": [
       "{'dimension': 384,\n",
       " 'index_fullness': 0.0,\n",
       " 'namespaces': {'real': {'vector_count': 282}},\n",
       " 'total_vector_count': 282}"
      ]
     },
     "execution_count": 80,
     "metadata": {},
     "output_type": "execute_result"
    }
   ],
   "source": [
    "from pinecone import Pinecone\n",
    "pc = Pinecone(api_key=PINECONE_API_KEY)  \n",
    "\n",
    " \n",
    "index_name=\"chatbot-2\"\n",
    "index = pc.Index(index_name)  \n",
    "for i, t in zip(range(len(text_chunks)), text_chunks):\n",
    "   query_result = embeddings.embed_query(t.page_content)\n",
    "   index.upsert(\n",
    "   vectors=[\n",
    "        {\n",
    "            \"id\": str(i),  # Convert i to a string\n",
    "            \"values\": query_result, \n",
    "            \"metadata\": {\"text\":str(text_chunks[i].page_content)} # meta data as dic\n",
    "        }\n",
    "    ],\n",
    "    namespace=\"real\" \n",
    ")\n",
    "\n",
    "index.describe_index_stats() "
   ]
  },
  {
   "cell_type": "code",
   "execution_count": 59,
   "metadata": {},
   "outputs": [],
   "source": [
    "#index = pinecone.Index(index_name)"
   ]
  },
  {
   "cell_type": "code",
   "execution_count": 58,
   "metadata": {},
   "outputs": [
    {
     "ename": "AttributeError",
     "evalue": "'Pinecone' object has no attribute 'similarity_search'",
     "output_type": "error",
     "traceback": [
      "\u001b[1;31m---------------------------------------------------------------------------\u001b[0m",
      "\u001b[1;31mAttributeError\u001b[0m                            Traceback (most recent call last)",
      "Cell \u001b[1;32mIn[58], line 10\u001b[0m\n\u001b[0;32m      8\u001b[0m \u001b[38;5;66;03m# Perform the similarity search\u001b[39;00m\n\u001b[0;32m      9\u001b[0m query \u001b[38;5;241m=\u001b[39m \u001b[38;5;124m\"\u001b[39m\u001b[38;5;124mWhat are Business?\u001b[39m\u001b[38;5;124m\"\u001b[39m\n\u001b[1;32m---> 10\u001b[0m docs \u001b[38;5;241m=\u001b[39m \u001b[43mdocsearch\u001b[49m\u001b[38;5;241;43m.\u001b[39;49m\u001b[43msimilarity_search\u001b[49m(query, k\u001b[38;5;241m=\u001b[39m\u001b[38;5;241m3\u001b[39m)\n\u001b[0;32m     12\u001b[0m \u001b[38;5;66;03m# Print results\u001b[39;00m\n\u001b[0;32m     13\u001b[0m \u001b[38;5;28mprint\u001b[39m(\u001b[38;5;124m\"\u001b[39m\u001b[38;5;124mResult\u001b[39m\u001b[38;5;124m\"\u001b[39m, docs)\n",
      "\u001b[1;31mAttributeError\u001b[0m: 'Pinecone' object has no attribute 'similarity_search'"
     ]
    }
   ],
   "source": [
    "# Define the embedding function\n",
    "def embedding_function(query):\n",
    "    return model.encode(query)\n",
    "\n",
    "# Load the index into the Pinecone vector store\n",
    "docsearch = Pinecone(index=index, embedding_function=embedding_function)\n",
    "\n",
    "# Perform the similarity search\n",
    "query = \"What are Business?\"\n",
    "docs = docsearch.similarity_search(query, k=3)\n",
    "\n",
    "# Print results\n",
    "print(\"Result\", docs)\n"
   ]
  },
  {
   "cell_type": "code",
   "execution_count": 50,
   "metadata": {},
   "outputs": [
    {
     "ename": "AttributeError",
     "evalue": "'HuggingFaceEmbeddings' object has no attribute 'startswith'",
     "output_type": "error",
     "traceback": [
      "\u001b[1;31m---------------------------------------------------------------------------\u001b[0m",
      "\u001b[1;31mAttributeError\u001b[0m                            Traceback (most recent call last)",
      "Cell \u001b[1;32mIn[50], line 2\u001b[0m\n\u001b[0;32m      1\u001b[0m \u001b[38;5;66;03m#If we already have an index we can load it like this\u001b[39;00m\n\u001b[1;32m----> 2\u001b[0m docsearch\u001b[38;5;241m=\u001b[39m\u001b[43mPinecone\u001b[49m\u001b[43m(\u001b[49m\u001b[43mindex_name\u001b[49m\u001b[43m,\u001b[49m\u001b[43m \u001b[49m\u001b[43membeddings\u001b[49m\u001b[43m)\u001b[49m\n\u001b[0;32m      4\u001b[0m query \u001b[38;5;241m=\u001b[39m \u001b[38;5;124m\"\u001b[39m\u001b[38;5;124mWhat are Allergies\u001b[39m\u001b[38;5;124m\"\u001b[39m\n\u001b[0;32m      6\u001b[0m docs\u001b[38;5;241m=\u001b[39mdocsearch\u001b[38;5;241m.\u001b[39msimilarity_search(query, k\u001b[38;5;241m=\u001b[39m\u001b[38;5;241m3\u001b[39m)\n",
      "File \u001b[1;32mc:\\Users\\hp\\anaconda3\\envs\\bot3\\lib\\site-packages\\pinecone\\control\\pinecone.py:95\u001b[0m, in \u001b[0;36mPinecone.__init__\u001b[1;34m(self, api_key, host, config, additional_headers, pool_threads, index_api, **kwargs)\u001b[0m\n\u001b[0;32m     93\u001b[0m         \u001b[38;5;28mself\u001b[39m\u001b[38;5;241m.\u001b[39mconfig \u001b[38;5;241m=\u001b[39m configKwarg\n\u001b[0;32m     94\u001b[0m \u001b[38;5;28;01melse\u001b[39;00m:\n\u001b[1;32m---> 95\u001b[0m     \u001b[38;5;28mself\u001b[39m\u001b[38;5;241m.\u001b[39mconfig \u001b[38;5;241m=\u001b[39m PineconeConfig\u001b[38;5;241m.\u001b[39mbuild(api_key\u001b[38;5;241m=\u001b[39mapi_key, host\u001b[38;5;241m=\u001b[39mhost, additional_headers\u001b[38;5;241m=\u001b[39madditional_headers, \u001b[38;5;241m*\u001b[39m\u001b[38;5;241m*\u001b[39mkwargs)\n\u001b[0;32m     97\u001b[0m \u001b[38;5;28;01mif\u001b[39;00m index_api:\n\u001b[0;32m     98\u001b[0m     \u001b[38;5;28mself\u001b[39m\u001b[38;5;241m.\u001b[39mindex_api \u001b[38;5;241m=\u001b[39m index_api\n",
      "File \u001b[1;32mc:\\Users\\hp\\anaconda3\\envs\\bot3\\lib\\site-packages\\pinecone\\config\\pinecone_config.py:12\u001b[0m, in \u001b[0;36mPineconeConfig.build\u001b[1;34m(api_key, host, additional_headers, **kwargs)\u001b[0m\n\u001b[0;32m      9\u001b[0m \u001b[38;5;129m@staticmethod\u001b[39m\n\u001b[0;32m     10\u001b[0m \u001b[38;5;28;01mdef\u001b[39;00m \u001b[38;5;21mbuild\u001b[39m(api_key: Optional[\u001b[38;5;28mstr\u001b[39m] \u001b[38;5;241m=\u001b[39m \u001b[38;5;28;01mNone\u001b[39;00m, host: Optional[\u001b[38;5;28mstr\u001b[39m] \u001b[38;5;241m=\u001b[39m \u001b[38;5;28;01mNone\u001b[39;00m, additional_headers: Optional[Dict[\u001b[38;5;28mstr\u001b[39m, \u001b[38;5;28mstr\u001b[39m]] \u001b[38;5;241m=\u001b[39m {},  \u001b[38;5;241m*\u001b[39m\u001b[38;5;241m*\u001b[39mkwargs) \u001b[38;5;241m-\u001b[39m\u001b[38;5;241m>\u001b[39m Config:\n\u001b[0;32m     11\u001b[0m     host \u001b[38;5;241m=\u001b[39m host \u001b[38;5;129;01mor\u001b[39;00m kwargs\u001b[38;5;241m.\u001b[39mget(\u001b[38;5;124m\"\u001b[39m\u001b[38;5;124mhost\u001b[39m\u001b[38;5;124m\"\u001b[39m) \u001b[38;5;129;01mor\u001b[39;00m os\u001b[38;5;241m.\u001b[39mgetenv(\u001b[38;5;124m\"\u001b[39m\u001b[38;5;124mPINECONE_CONTROLLER_HOST\u001b[39m\u001b[38;5;124m\"\u001b[39m) \u001b[38;5;129;01mor\u001b[39;00m DEFAULT_CONTROLLER_HOST\n\u001b[1;32m---> 12\u001b[0m     \u001b[38;5;28;01mreturn\u001b[39;00m ConfigBuilder\u001b[38;5;241m.\u001b[39mbuild(api_key\u001b[38;5;241m=\u001b[39mapi_key, host\u001b[38;5;241m=\u001b[39mhost, additional_headers\u001b[38;5;241m=\u001b[39madditional_headers, \u001b[38;5;241m*\u001b[39m\u001b[38;5;241m*\u001b[39mkwargs)\n",
      "File \u001b[1;32mc:\\Users\\hp\\anaconda3\\envs\\bot3\\lib\\site-packages\\pinecone\\config\\config.py:42\u001b[0m, in \u001b[0;36mConfigBuilder.build\u001b[1;34m(api_key, host, openapi_config, additional_headers, **kwargs)\u001b[0m\n\u001b[0;32m     40\u001b[0m api_key \u001b[38;5;241m=\u001b[39m api_key \u001b[38;5;129;01mor\u001b[39;00m kwargs\u001b[38;5;241m.\u001b[39mpop(\u001b[38;5;124m\"\u001b[39m\u001b[38;5;124mapi_key\u001b[39m\u001b[38;5;124m\"\u001b[39m, \u001b[38;5;28;01mNone\u001b[39;00m) \u001b[38;5;129;01mor\u001b[39;00m os\u001b[38;5;241m.\u001b[39mgetenv(\u001b[38;5;124m\"\u001b[39m\u001b[38;5;124mPINECONE_API_KEY\u001b[39m\u001b[38;5;124m\"\u001b[39m)\n\u001b[0;32m     41\u001b[0m host \u001b[38;5;241m=\u001b[39m host \u001b[38;5;129;01mor\u001b[39;00m kwargs\u001b[38;5;241m.\u001b[39mpop(\u001b[38;5;124m\"\u001b[39m\u001b[38;5;124mhost\u001b[39m\u001b[38;5;124m\"\u001b[39m, \u001b[38;5;28;01mNone\u001b[39;00m)\n\u001b[1;32m---> 42\u001b[0m host \u001b[38;5;241m=\u001b[39m \u001b[43mnormalize_host\u001b[49m\u001b[43m(\u001b[49m\u001b[43mhost\u001b[49m\u001b[43m)\u001b[49m\n\u001b[0;32m     44\u001b[0m \u001b[38;5;28;01mif\u001b[39;00m \u001b[38;5;129;01mnot\u001b[39;00m api_key:\n\u001b[0;32m     45\u001b[0m     \u001b[38;5;28;01mraise\u001b[39;00m PineconeConfigurationError(\u001b[38;5;124m\"\u001b[39m\u001b[38;5;124mYou haven\u001b[39m\u001b[38;5;124m'\u001b[39m\u001b[38;5;124mt specified an Api-Key.\u001b[39m\u001b[38;5;124m\"\u001b[39m)\n",
      "File \u001b[1;32mc:\\Users\\hp\\anaconda3\\envs\\bot3\\lib\\site-packages\\pinecone\\utils\\normalize_host.py:4\u001b[0m, in \u001b[0;36mnormalize_host\u001b[1;34m(host)\u001b[0m\n\u001b[0;32m      2\u001b[0m \u001b[38;5;28;01mif\u001b[39;00m host \u001b[38;5;129;01mis\u001b[39;00m \u001b[38;5;28;01mNone\u001b[39;00m:\n\u001b[0;32m      3\u001b[0m     \u001b[38;5;28;01mreturn\u001b[39;00m host\n\u001b[1;32m----> 4\u001b[0m \u001b[38;5;28;01mif\u001b[39;00m \u001b[43mhost\u001b[49m\u001b[38;5;241;43m.\u001b[39;49m\u001b[43mstartswith\u001b[49m(\u001b[38;5;124m'\u001b[39m\u001b[38;5;124mhttps://\u001b[39m\u001b[38;5;124m'\u001b[39m):\n\u001b[0;32m      5\u001b[0m     \u001b[38;5;28;01mreturn\u001b[39;00m host\n\u001b[0;32m      6\u001b[0m \u001b[38;5;28;01mif\u001b[39;00m host\u001b[38;5;241m.\u001b[39mstartswith(\u001b[38;5;124m'\u001b[39m\u001b[38;5;124mhttp://\u001b[39m\u001b[38;5;124m'\u001b[39m):\n",
      "\u001b[1;31mAttributeError\u001b[0m: 'HuggingFaceEmbeddings' object has no attribute 'startswith'"
     ]
    }
   ],
   "source": [
    "#If we already have an index we can load it like this\n",
    "docsearch=Pinecone(index_name, embeddings)\n",
    "\n",
    "query = \"What are Allergies\"\n",
    "\n",
    "docs=docsearch.similarity_search(query, k=3)\n",
    "\n",
    "print(\"Result\", docs)"
   ]
  },
  {
   "cell_type": "code",
   "execution_count": 46,
   "metadata": {},
   "outputs": [],
   "source": [
    "import pinecone\n",
    "from pinecone import Pinecone,ServerlessSpec"
   ]
  },
  {
   "cell_type": "code",
   "execution_count": 50,
   "metadata": {},
   "outputs": [
    {
     "ename": "AttributeError",
     "evalue": "list_indexes is no longer a top-level attribute of the pinecone package.\n\nTo use list_indexes, please create a client instance and call the method there instead.\n\nExample:\n\n    from pinecone import Pinecone\n    \n    pc = Pinecone(api_key='YOUR_API_KEY')\n\n    index_name = \"quickstart\" # or your index name\n\n    if index_name not in pc.list_indexes().names():\n        # do something\n\n",
     "output_type": "error",
     "traceback": [
      "\u001b[1;31m---------------------------------------------------------------------------\u001b[0m",
      "\u001b[1;31mAttributeError\u001b[0m                            Traceback (most recent call last)",
      "Cell \u001b[1;32mIn[50], line 2\u001b[0m\n\u001b[0;32m      1\u001b[0m \u001b[38;5;28;01mfrom\u001b[39;00m \u001b[38;5;21;01mlangchain\u001b[39;00m\u001b[38;5;21;01m.\u001b[39;00m\u001b[38;5;21;01mvectorstores\u001b[39;00m \u001b[38;5;28;01mimport\u001b[39;00m Pinecone\n\u001b[1;32m----> 2\u001b[0m docsearch \u001b[38;5;241m=\u001b[39m \u001b[43mPinecone\u001b[49m\u001b[38;5;241;43m.\u001b[39;49m\u001b[43mfrom_texts\u001b[49m\u001b[43m(\u001b[49m\u001b[43m[\u001b[49m\u001b[43mt\u001b[49m\u001b[38;5;241;43m.\u001b[39;49m\u001b[43mpage_content\u001b[49m\u001b[43m \u001b[49m\u001b[38;5;28;43;01mfor\u001b[39;49;00m\u001b[43m \u001b[49m\u001b[43mt\u001b[49m\u001b[43m \u001b[49m\u001b[38;5;129;43;01min\u001b[39;49;00m\u001b[43m \u001b[49m\u001b[43mtext_chunks\u001b[49m\u001b[43m]\u001b[49m\u001b[43m,\u001b[49m\u001b[43m \u001b[49m\u001b[43membeddings\u001b[49m\u001b[43m,\u001b[49m\u001b[43m \u001b[49m\u001b[43mindex_name\u001b[49m\u001b[38;5;241;43m=\u001b[39;49m\u001b[43mindex_name\u001b[49m\u001b[43m)\u001b[49m\n",
      "File \u001b[1;32mc:\\Users\\hp\\anaconda3\\envs\\chatbot2\\Lib\\site-packages\\langchain\\vectorstores\\pinecone.py:296\u001b[0m, in \u001b[0;36mPinecone.from_texts\u001b[1;34m(cls, texts, embedding, metadatas, ids, batch_size, text_key, index_name, namespace, **kwargs)\u001b[0m\n\u001b[0;32m    290\u001b[0m \u001b[38;5;28;01mexcept\u001b[39;00m \u001b[38;5;167;01mImportError\u001b[39;00m:\n\u001b[0;32m    291\u001b[0m     \u001b[38;5;28;01mraise\u001b[39;00m \u001b[38;5;167;01mValueError\u001b[39;00m(\n\u001b[0;32m    292\u001b[0m         \u001b[38;5;124m\"\u001b[39m\u001b[38;5;124mCould not import pinecone python package. \u001b[39m\u001b[38;5;124m\"\u001b[39m\n\u001b[0;32m    293\u001b[0m         \u001b[38;5;124m\"\u001b[39m\u001b[38;5;124mPlease install it with `pip install pinecone-client`.\u001b[39m\u001b[38;5;124m\"\u001b[39m\n\u001b[0;32m    294\u001b[0m     )\n\u001b[1;32m--> 296\u001b[0m indexes \u001b[38;5;241m=\u001b[39m \u001b[43mpinecone\u001b[49m\u001b[38;5;241;43m.\u001b[39;49m\u001b[43mlist_indexes\u001b[49m\u001b[43m(\u001b[49m\u001b[43m)\u001b[49m  \u001b[38;5;66;03m# checks if provided index exists\u001b[39;00m\n\u001b[0;32m    298\u001b[0m \u001b[38;5;28;01mif\u001b[39;00m index_name \u001b[38;5;129;01min\u001b[39;00m indexes:\n\u001b[0;32m    299\u001b[0m     index \u001b[38;5;241m=\u001b[39m pinecone\u001b[38;5;241m.\u001b[39mIndex(index_name)\n",
      "File \u001b[1;32mc:\\Users\\hp\\anaconda3\\envs\\chatbot2\\Lib\\site-packages\\pinecone\\deprecation_warnings.py:53\u001b[0m, in \u001b[0;36mlist_indexes\u001b[1;34m(*args, **kwargs)\u001b[0m\n\u001b[0;32m     42\u001b[0m \u001b[38;5;28;01mdef\u001b[39;00m \u001b[38;5;21mlist_indexes\u001b[39m(\u001b[38;5;241m*\u001b[39margs, \u001b[38;5;241m*\u001b[39m\u001b[38;5;241m*\u001b[39mkwargs):\n\u001b[0;32m     43\u001b[0m     example \u001b[38;5;241m=\u001b[39m \u001b[38;5;124m\"\"\"\u001b[39m\n\u001b[0;32m     44\u001b[0m \u001b[38;5;124m    from pinecone import Pinecone\u001b[39m\n\u001b[0;32m     45\u001b[0m \u001b[38;5;124m    \u001b[39m\n\u001b[1;32m   (...)\u001b[0m\n\u001b[0;32m     51\u001b[0m \u001b[38;5;124m        # do something\u001b[39m\n\u001b[0;32m     52\u001b[0m \u001b[38;5;124m\"\"\"\u001b[39m\n\u001b[1;32m---> 53\u001b[0m     \u001b[38;5;28;01mraise\u001b[39;00m \u001b[38;5;167;01mAttributeError\u001b[39;00m(_build_class_migration_message(\u001b[38;5;124m\"\u001b[39m\u001b[38;5;124mlist_indexes\u001b[39m\u001b[38;5;124m\"\u001b[39m, example))\n",
      "\u001b[1;31mAttributeError\u001b[0m: list_indexes is no longer a top-level attribute of the pinecone package.\n\nTo use list_indexes, please create a client instance and call the method there instead.\n\nExample:\n\n    from pinecone import Pinecone\n    \n    pc = Pinecone(api_key='YOUR_API_KEY')\n\n    index_name = \"quickstart\" # or your index name\n\n    if index_name not in pc.list_indexes().names():\n        # do something\n\n"
     ]
    }
   ],
   "source": [
    "from langchain.vectorstores import Pinecone\n",
    "docsearch = Pinecone.from_texts([t.page_content for t in text_chunks], embeddings, index_name=index_name)"
   ]
  },
  {
   "cell_type": "code",
   "execution_count": 36,
   "metadata": {},
   "outputs": [
    {
     "ename": "ImportError",
     "evalue": "cannot import name 'PineconeVectorStore' from 'pinecone' (c:\\Users\\hp\\anaconda3\\envs\\bot3\\lib\\site-packages\\pinecone\\__init__.py)",
     "output_type": "error",
     "traceback": [
      "\u001b[1;31m---------------------------------------------------------------------------\u001b[0m",
      "\u001b[1;31mImportError\u001b[0m                               Traceback (most recent call last)",
      "Cell \u001b[1;32mIn[36], line 2\u001b[0m\n\u001b[0;32m      1\u001b[0m query \u001b[38;5;241m=\u001b[39m \u001b[38;5;124m\"\u001b[39m\u001b[38;5;124mWhat is business model\u001b[39m\u001b[38;5;124m\"\u001b[39m\n\u001b[1;32m----> 2\u001b[0m \u001b[38;5;28;01mfrom\u001b[39;00m \u001b[38;5;21;01mpinecone\u001b[39;00m \u001b[38;5;28;01mimport\u001b[39;00m PineconeVectorStore\n\u001b[0;32m      3\u001b[0m docsearch \u001b[38;5;241m=\u001b[39m PineconeVectorStore\u001b[38;5;241m.\u001b[39mfrom_texts(texts \u001b[38;5;241m=\u001b[39m query, embedding\u001b[38;5;241m=\u001b[39membeddings, index_name\u001b[38;5;241m=\u001b[39mindex_name)\n",
      "\u001b[1;31mImportError\u001b[0m: cannot import name 'PineconeVectorStore' from 'pinecone' (c:\\Users\\hp\\anaconda3\\envs\\bot3\\lib\\site-packages\\pinecone\\__init__.py)"
     ]
    }
   ],
   "source": [
    "query = \"What is business model\"\n",
    "from pinecone import PineconeVectorStore\n",
    "docsearch = PineconeVectorStore.from_texts(texts = query, embedding=embeddings, index_name=index_name)"
   ]
  },
  {
   "cell_type": "code",
   "execution_count": 52,
   "metadata": {},
   "outputs": [
    {
     "name": "stdout",
     "output_type": "stream",
     "text": [
      "Requirement already satisfied: langchain in c:\\users\\hp\\anaconda3\\envs\\chatbot2\\lib\\site-packages (0.0.225)Note: you may need to restart the kernel to use updated packages.\n",
      "\n",
      "Requirement already satisfied: pinecone-client in c:\\users\\hp\\anaconda3\\envs\\chatbot2\\lib\\site-packages (5.0.1)\n",
      "Requirement already satisfied: PyYAML>=5.4.1 in c:\\users\\hp\\anaconda3\\envs\\chatbot2\\lib\\site-packages (from langchain) (6.0.2)\n",
      "Requirement already satisfied: SQLAlchemy<3,>=1.4 in c:\\users\\hp\\anaconda3\\envs\\chatbot2\\lib\\site-packages (from langchain) (2.0.32)\n",
      "Requirement already satisfied: aiohttp<4.0.0,>=3.8.3 in c:\\users\\hp\\anaconda3\\envs\\chatbot2\\lib\\site-packages (from langchain) (3.10.3)\n",
      "Requirement already satisfied: dataclasses-json<0.6.0,>=0.5.7 in c:\\users\\hp\\anaconda3\\envs\\chatbot2\\lib\\site-packages (from langchain) (0.5.14)\n",
      "Requirement already satisfied: langchainplus-sdk<0.0.21,>=0.0.20 in c:\\users\\hp\\anaconda3\\envs\\chatbot2\\lib\\site-packages (from langchain) (0.0.20)\n",
      "Requirement already satisfied: numexpr<3.0.0,>=2.8.4 in c:\\users\\hp\\anaconda3\\envs\\chatbot2\\lib\\site-packages (from langchain) (2.10.1)\n",
      "Requirement already satisfied: numpy<2,>=1 in c:\\users\\hp\\anaconda3\\envs\\chatbot2\\lib\\site-packages (from langchain) (1.26.4)\n",
      "Requirement already satisfied: openapi-schema-pydantic<2.0,>=1.2 in c:\\users\\hp\\anaconda3\\envs\\chatbot2\\lib\\site-packages (from langchain) (1.2.4)\n",
      "Requirement already satisfied: pydantic<2,>=1 in c:\\users\\hp\\anaconda3\\envs\\chatbot2\\lib\\site-packages (from langchain) (1.10.17)\n",
      "Requirement already satisfied: requests<3,>=2 in c:\\users\\hp\\anaconda3\\envs\\chatbot2\\lib\\site-packages (from langchain) (2.32.3)\n",
      "Requirement already satisfied: tenacity<9.0.0,>=8.1.0 in c:\\users\\hp\\anaconda3\\envs\\chatbot2\\lib\\site-packages (from langchain) (8.5.0)\n",
      "Requirement already satisfied: certifi>=2019.11.17 in c:\\users\\hp\\anaconda3\\envs\\chatbot2\\lib\\site-packages (from pinecone-client) (2024.7.4)\n",
      "Requirement already satisfied: pinecone-plugin-inference<2.0.0,>=1.0.3 in c:\\users\\hp\\anaconda3\\envs\\chatbot2\\lib\\site-packages (from pinecone-client) (1.0.3)\n",
      "Requirement already satisfied: pinecone-plugin-interface<0.0.8,>=0.0.7 in c:\\users\\hp\\anaconda3\\envs\\chatbot2\\lib\\site-packages (from pinecone-client) (0.0.7)\n",
      "Requirement already satisfied: tqdm>=4.64.1 in c:\\users\\hp\\anaconda3\\envs\\chatbot2\\lib\\site-packages (from pinecone-client) (4.66.5)\n",
      "Requirement already satisfied: typing-extensions>=3.7.4 in c:\\users\\hp\\anaconda3\\envs\\chatbot2\\lib\\site-packages (from pinecone-client) (4.12.2)\n",
      "Requirement already satisfied: urllib3>=1.26.5 in c:\\users\\hp\\anaconda3\\envs\\chatbot2\\lib\\site-packages (from pinecone-client) (2.2.2)\n",
      "Requirement already satisfied: aiohappyeyeballs>=2.3.0 in c:\\users\\hp\\anaconda3\\envs\\chatbot2\\lib\\site-packages (from aiohttp<4.0.0,>=3.8.3->langchain) (2.3.5)\n",
      "Requirement already satisfied: aiosignal>=1.1.2 in c:\\users\\hp\\anaconda3\\envs\\chatbot2\\lib\\site-packages (from aiohttp<4.0.0,>=3.8.3->langchain) (1.3.1)\n",
      "Requirement already satisfied: attrs>=17.3.0 in c:\\users\\hp\\anaconda3\\envs\\chatbot2\\lib\\site-packages (from aiohttp<4.0.0,>=3.8.3->langchain) (24.2.0)\n",
      "Requirement already satisfied: frozenlist>=1.1.1 in c:\\users\\hp\\anaconda3\\envs\\chatbot2\\lib\\site-packages (from aiohttp<4.0.0,>=3.8.3->langchain) (1.4.1)\n",
      "Requirement already satisfied: multidict<7.0,>=4.5 in c:\\users\\hp\\anaconda3\\envs\\chatbot2\\lib\\site-packages (from aiohttp<4.0.0,>=3.8.3->langchain) (6.0.5)\n",
      "Requirement already satisfied: yarl<2.0,>=1.0 in c:\\users\\hp\\anaconda3\\envs\\chatbot2\\lib\\site-packages (from aiohttp<4.0.0,>=3.8.3->langchain) (1.9.4)\n",
      "Requirement already satisfied: marshmallow<4.0.0,>=3.18.0 in c:\\users\\hp\\anaconda3\\envs\\chatbot2\\lib\\site-packages (from dataclasses-json<0.6.0,>=0.5.7->langchain) (3.21.3)\n",
      "Requirement already satisfied: typing-inspect<1,>=0.4.0 in c:\\users\\hp\\anaconda3\\envs\\chatbot2\\lib\\site-packages (from dataclasses-json<0.6.0,>=0.5.7->langchain) (0.9.0)\n",
      "Requirement already satisfied: charset-normalizer<4,>=2 in c:\\users\\hp\\anaconda3\\envs\\chatbot2\\lib\\site-packages (from requests<3,>=2->langchain) (3.3.2)\n",
      "Requirement already satisfied: idna<4,>=2.5 in c:\\users\\hp\\anaconda3\\envs\\chatbot2\\lib\\site-packages (from requests<3,>=2->langchain) (3.7)\n",
      "Requirement already satisfied: greenlet!=0.4.17 in c:\\users\\hp\\anaconda3\\envs\\chatbot2\\lib\\site-packages (from SQLAlchemy<3,>=1.4->langchain) (3.0.3)\n",
      "Requirement already satisfied: colorama in c:\\users\\hp\\anaconda3\\envs\\chatbot2\\lib\\site-packages (from tqdm>=4.64.1->pinecone-client) (0.4.6)\n",
      "Requirement already satisfied: packaging>=17.0 in c:\\users\\hp\\anaconda3\\envs\\chatbot2\\lib\\site-packages (from marshmallow<4.0.0,>=3.18.0->dataclasses-json<0.6.0,>=0.5.7->langchain) (24.1)\n",
      "Requirement already satisfied: mypy-extensions>=0.3.0 in c:\\users\\hp\\anaconda3\\envs\\chatbot2\\lib\\site-packages (from typing-inspect<1,>=0.4.0->dataclasses-json<0.6.0,>=0.5.7->langchain) (1.0.0)\n"
     ]
    }
   ],
   "source": [
    "pip install langchain pinecone-client\n"
   ]
  },
  {
   "cell_type": "code",
   "execution_count": 2,
   "metadata": {},
   "outputs": [
    {
     "ename": "ModuleNotFoundError",
     "evalue": "No module named 'langchain_pinecone'",
     "output_type": "error",
     "traceback": [
      "\u001b[1;31m---------------------------------------------------------------------------\u001b[0m",
      "\u001b[1;31mModuleNotFoundError\u001b[0m                       Traceback (most recent call last)",
      "Cell \u001b[1;32mIn[2], line 1\u001b[0m\n\u001b[1;32m----> 1\u001b[0m \u001b[38;5;28;01mfrom\u001b[39;00m \u001b[38;5;21;01mlangchain_pinecone\u001b[39;00m \u001b[38;5;28;01mimport\u001b[39;00m PineconeVectorStore\n",
      "\u001b[1;31mModuleNotFoundError\u001b[0m: No module named 'langchain_pinecone'"
     ]
    }
   ],
   "source": [
    "from langchain_pinecone import PineconeVectorStore"
   ]
  },
  {
   "cell_type": "code",
   "execution_count": 1,
   "metadata": {},
   "outputs": [
    {
     "name": "stderr",
     "output_type": "stream",
     "text": [
      "c:\\Users\\hp\\anaconda3\\envs\\chatbot2\\Lib\\site-packages\\pinecone\\data\\index.py:1: TqdmWarning: IProgress not found. Please update jupyter and ipywidgets. See https://ipywidgets.readthedocs.io/en/stable/user_install.html\n",
      "  from tqdm.autonotebook import tqdm\n"
     ]
    },
    {
     "ename": "ModuleNotFoundError",
     "evalue": "No module named 'langchain_pinecone'",
     "output_type": "error",
     "traceback": [
      "\u001b[1;31m---------------------------------------------------------------------------\u001b[0m",
      "\u001b[1;31mModuleNotFoundError\u001b[0m                       Traceback (most recent call last)",
      "Cell \u001b[1;32mIn[1], line 2\u001b[0m\n\u001b[0;32m      1\u001b[0m \u001b[38;5;28;01mfrom\u001b[39;00m \u001b[38;5;21;01mpinecone\u001b[39;00m \u001b[38;5;28;01mimport\u001b[39;00m Pinecone\n\u001b[1;32m----> 2\u001b[0m \u001b[38;5;28;01mfrom\u001b[39;00m \u001b[38;5;21;01mlangchain_pinecone\u001b[39;00m \u001b[38;5;28;01mimport\u001b[39;00m PineconeVectorStore\n",
      "\u001b[1;31mModuleNotFoundError\u001b[0m: No module named 'langchain_pinecone'"
     ]
    }
   ],
   "source": [
    "from pinecone import Pinecone\n",
    "from langchain_pinecone import PineconeVectorStore"
   ]
  },
  {
   "cell_type": "code",
   "execution_count": 55,
   "metadata": {},
   "outputs": [
    {
     "ename": "AttributeError",
     "evalue": "type object 'Pinecone' has no attribute 'from_existing_index'",
     "output_type": "error",
     "traceback": [
      "\u001b[1;31m---------------------------------------------------------------------------\u001b[0m",
      "\u001b[1;31mAttributeError\u001b[0m                            Traceback (most recent call last)",
      "Cell \u001b[1;32mIn[55], line 1\u001b[0m\n\u001b[1;32m----> 1\u001b[0m docsearch\u001b[38;5;241m=\u001b[39m\u001b[43mPinecone\u001b[49m\u001b[38;5;241;43m.\u001b[39;49m\u001b[43mfrom_existing_index\u001b[49m(index_name, embeddings)\n\u001b[0;32m      3\u001b[0m query \u001b[38;5;241m=\u001b[39m \u001b[38;5;124m\"\u001b[39m\u001b[38;5;124mWhat is business model\u001b[39m\u001b[38;5;124m\"\u001b[39m\n\u001b[0;32m      5\u001b[0m docs\u001b[38;5;241m=\u001b[39mdocsearch\u001b[38;5;241m.\u001b[39msimilarity_search(query, k\u001b[38;5;241m=\u001b[39m\u001b[38;5;241m3\u001b[39m)\n",
      "\u001b[1;31mAttributeError\u001b[0m: type object 'Pinecone' has no attribute 'from_existing_index'"
     ]
    }
   ],
   "source": [
    "\n",
    "\n",
    "\n",
    "docsearch=Pinecone.from_existing_index(index_name, embeddings)\n",
    "\n",
    "query = \"What is business model\"\n",
    "\n",
    "docs=docsearch.similarity_search(query, k=3)\n",
    "\n",
    "print(\"Result\", docs)"
   ]
  },
  {
   "cell_type": "code",
   "execution_count": 1,
   "metadata": {},
   "outputs": [
    {
     "name": "stderr",
     "output_type": "stream",
     "text": [
      "c:\\Users\\hp\\anaconda3\\envs\\bot3\\lib\\site-packages\\pinecone\\data\\index.py:1: TqdmWarning: IProgress not found. Please update jupyter and ipywidgets. See https://ipywidgets.readthedocs.io/en/stable/user_install.html\n",
      "  from tqdm.autonotebook import tqdm\n"
     ]
    },
    {
     "ename": "NameError",
     "evalue": "name 'text_chunks' is not defined",
     "output_type": "error",
     "traceback": [
      "\u001b[1;31m---------------------------------------------------------------------------\u001b[0m",
      "\u001b[1;31mNameError\u001b[0m                                 Traceback (most recent call last)",
      "Cell \u001b[1;32mIn[1], line 2\u001b[0m\n\u001b[0;32m      1\u001b[0m \u001b[38;5;28;01mfrom\u001b[39;00m \u001b[38;5;21;01mlangchain_pinecone\u001b[39;00m \u001b[38;5;28;01mimport\u001b[39;00m PineconeVectorStore\n\u001b[1;32m----> 2\u001b[0m docsearch \u001b[38;5;241m=\u001b[39m PineconeVectorStore\u001b[38;5;241m.\u001b[39mfrom_texts(texts \u001b[38;5;241m=\u001b[39m \u001b[43mtext_chunks\u001b[49m, embedding\u001b[38;5;241m=\u001b[39membeddings, index_name\u001b[38;5;241m=\u001b[39mindex_name)\n",
      "\u001b[1;31mNameError\u001b[0m: name 'text_chunks' is not defined"
     ]
    }
   ],
   "source": [
    "from langchain_pinecone import PineconeVectorStore\n",
    "docsearch = PineconeVectorStore.from_texts(texts = text_chunks, embedding=embeddings, index_name=index_name)\n"
   ]
  },
  {
   "cell_type": "code",
   "execution_count": 1,
   "metadata": {},
   "outputs": [
    {
     "name": "stdout",
     "output_type": "stream",
     "text": [
      "Requirement already satisfied: langchain_pinecone in c:\\users\\hp\\anaconda3\\envs\\bot3\\lib\\site-packages (0.0.3)\n",
      "Requirement already satisfied: langchain-core<0.2,>=0.1 in c:\\users\\hp\\anaconda3\\envs\\bot3\\lib\\site-packages (from langchain_pinecone) (0.1.52)\n",
      "Requirement already satisfied: numpy<2,>=1 in c:\\users\\hp\\anaconda3\\envs\\bot3\\lib\\site-packages (from langchain_pinecone) (1.26.4)\n",
      "Requirement already satisfied: pinecone-client<4,>=3 in c:\\users\\hp\\anaconda3\\envs\\bot3\\lib\\site-packages (from langchain_pinecone) (3.0.0)\n",
      "Requirement already satisfied: PyYAML>=5.3 in c:\\users\\hp\\anaconda3\\envs\\bot3\\lib\\site-packages (from langchain-core<0.2,>=0.1->langchain_pinecone) (6.0.2)\n",
      "Requirement already satisfied: jsonpatch<2.0,>=1.33 in c:\\users\\hp\\anaconda3\\envs\\bot3\\lib\\site-packages (from langchain-core<0.2,>=0.1->langchain_pinecone) (1.33)\n",
      "Requirement already satisfied: langsmith<0.2.0,>=0.1.0 in c:\\users\\hp\\anaconda3\\envs\\bot3\\lib\\site-packages (from langchain-core<0.2,>=0.1->langchain_pinecone) (0.1.99)\n",
      "Requirement already satisfied: packaging<24.0,>=23.2 in c:\\users\\hp\\anaconda3\\envs\\bot3\\lib\\site-packages (from langchain-core<0.2,>=0.1->langchain_pinecone) (23.2)\n",
      "Requirement already satisfied: pydantic<3,>=1 in c:\\users\\hp\\anaconda3\\envs\\bot3\\lib\\site-packages (from langchain-core<0.2,>=0.1->langchain_pinecone) (1.10.17)\n",
      "Requirement already satisfied: tenacity<9.0.0,>=8.1.0 in c:\\users\\hp\\anaconda3\\envs\\bot3\\lib\\site-packages (from langchain-core<0.2,>=0.1->langchain_pinecone) (8.5.0)\n",
      "Requirement already satisfied: certifi>=2019.11.17 in c:\\users\\hp\\anaconda3\\envs\\bot3\\lib\\site-packages (from pinecone-client<4,>=3->langchain_pinecone) (2024.7.4)\n",
      "Requirement already satisfied: tqdm>=4.64.1 in c:\\users\\hp\\anaconda3\\envs\\bot3\\lib\\site-packages (from pinecone-client<4,>=3->langchain_pinecone) (4.66.5)\n",
      "Requirement already satisfied: typing-extensions>=3.7.4 in c:\\users\\hp\\anaconda3\\envs\\bot3\\lib\\site-packages (from pinecone-client<4,>=3->langchain_pinecone) (4.12.2)\n",
      "Requirement already satisfied: urllib3>=1.26.0 in c:\\users\\hp\\anaconda3\\envs\\bot3\\lib\\site-packages (from pinecone-client<4,>=3->langchain_pinecone) (2.2.2)\n",
      "Requirement already satisfied: jsonpointer>=1.9 in c:\\users\\hp\\anaconda3\\envs\\bot3\\lib\\site-packages (from jsonpatch<2.0,>=1.33->langchain-core<0.2,>=0.1->langchain_pinecone) (3.0.0)\n",
      "Requirement already satisfied: orjson<4.0.0,>=3.9.14 in c:\\users\\hp\\anaconda3\\envs\\bot3\\lib\\site-packages (from langsmith<0.2.0,>=0.1.0->langchain-core<0.2,>=0.1->langchain_pinecone) (3.10.7)\n",
      "Requirement already satisfied: requests<3,>=2 in c:\\users\\hp\\anaconda3\\envs\\bot3\\lib\\site-packages (from langsmith<0.2.0,>=0.1.0->langchain-core<0.2,>=0.1->langchain_pinecone) (2.32.3)\n",
      "Requirement already satisfied: colorama in c:\\users\\hp\\anaconda3\\envs\\bot3\\lib\\site-packages (from tqdm>=4.64.1->pinecone-client<4,>=3->langchain_pinecone) (0.4.6)\n",
      "Requirement already satisfied: charset-normalizer<4,>=2 in c:\\users\\hp\\anaconda3\\envs\\bot3\\lib\\site-packages (from requests<3,>=2->langsmith<0.2.0,>=0.1.0->langchain-core<0.2,>=0.1->langchain_pinecone) (3.3.2)\n",
      "Requirement already satisfied: idna<4,>=2.5 in c:\\users\\hp\\anaconda3\\envs\\bot3\\lib\\site-packages (from requests<3,>=2->langsmith<0.2.0,>=0.1.0->langchain-core<0.2,>=0.1->langchain_pinecone) (3.7)\n",
      "Note: you may need to restart the kernel to use updated packages.\n"
     ]
    }
   ],
   "source": [
    "pip install langchain_pinecone"
   ]
  },
  {
   "cell_type": "code",
   "execution_count": null,
   "metadata": {},
   "outputs": [],
   "source": []
  }
 ],
 "metadata": {
  "kernelspec": {
   "display_name": "Python 3",
   "language": "python",
   "name": "python3"
  },
  "language_info": {
   "codemirror_mode": {
    "name": "ipython",
    "version": 3
   },
   "file_extension": ".py",
   "mimetype": "text/x-python",
   "name": "python",
   "nbconvert_exporter": "python",
   "pygments_lexer": "ipython3",
   "version": "3.10.14"
  }
 },
 "nbformat": 4,
 "nbformat_minor": 2
}
